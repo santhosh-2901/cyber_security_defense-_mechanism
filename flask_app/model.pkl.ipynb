{
 "cells": [
  {
   "cell_type": "code",
   "execution_count": 4,
   "id": "3e018c6d",
   "metadata": {},
   "outputs": [
    {
     "name": "stdout",
     "output_type": "stream",
     "text": [
      "src_ip              object\n",
      "dst_ip              object\n",
      "tcp_seq              int64\n",
      "tcp_ack              int64\n",
      "tcp_window_size      int64\n",
      "tcp_flags           object\n",
      "frame_len            int64\n",
      "ip_len             float64\n",
      "tcp_srcport          int64\n",
      "tcp_dstport          int64\n",
      "label                int64\n",
      "dtype: object\n"
     ]
    }
   ],
   "source": [
    "import pandas as pd\n",
    "from sklearn.ensemble import RandomForestClassifier\n",
    "import pickle\n",
    "\n",
    "# Load the data\n",
    "df = pd.read_csv(\"C:/Users/santh/Downloads/balanced_modbus_traffic.csv\")\n",
    "\n",
    "# Check data types of features to identify non-numeric columns\n",
    "print(df.dtypes)\n"
   ]
  },
  {
   "cell_type": "code",
   "execution_count": 5,
   "id": "c34a6141",
   "metadata": {},
   "outputs": [
    {
     "name": "stdout",
     "output_type": "stream",
     "text": [
      "Model training and saving completed successfully.\n"
     ]
    }
   ],
   "source": [
    "import pandas as pd\n",
    "from sklearn.ensemble import RandomForestClassifier\n",
    "import pickle\n",
    "\n",
    "# Load the data\n",
    "df = pd.read_csv(\"C:/Users/santh/Downloads/balanced_modbus_traffic.csv\")\n",
    "\n",
    "# Encode 'tcp_flags' as it's a categorical feature\n",
    "df['tcp_flags'] = df['tcp_flags'].astype('category').cat.codes\n",
    "\n",
    "# Drop IP columns if they are not needed or can't be used directly in this context\n",
    "df = df.drop(['src_ip', 'dst_ip'], axis=1)\n",
    "\n",
    "# Define features and target\n",
    "X = df[['tcp_ack', 'tcp_seq', 'frame_len', 'tcp_window_size', 'tcp_flags']]\n",
    "y = df['label']\n",
    "\n",
    "# Train the model\n",
    "model = RandomForestClassifier().fit(X, y)\n",
    "\n",
    "# Save the model to a .pkl file\n",
    "with open('cyber_model.pkl', 'wb') as file:\n",
    "    pickle.dump(model, file)\n",
    "\n",
    "print(\"Model training and saving completed successfully.\")\n"
   ]
  },
  {
   "cell_type": "code",
   "execution_count": null,
   "id": "850c44f7",
   "metadata": {},
   "outputs": [],
   "source": []
  }
 ],
 "metadata": {
  "kernelspec": {
   "display_name": "Python 3 (ipykernel)",
   "language": "python",
   "name": "python3"
  },
  "language_info": {
   "codemirror_mode": {
    "name": "ipython",
    "version": 3
   },
   "file_extension": ".py",
   "mimetype": "text/x-python",
   "name": "python",
   "nbconvert_exporter": "python",
   "pygments_lexer": "ipython3",
   "version": "3.11.4"
  }
 },
 "nbformat": 4,
 "nbformat_minor": 5
}
